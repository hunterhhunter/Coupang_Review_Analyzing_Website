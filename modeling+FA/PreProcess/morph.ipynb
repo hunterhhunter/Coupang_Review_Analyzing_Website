{
 "cells": [
  {
   "cell_type": "code",
   "execution_count": 1,
   "metadata": {},
   "outputs": [
    {
     "name": "stdout",
     "output_type": "stream",
     "text": [
      "filepath:  C:\\anaconda3\\Lib\\site-packages\n",
      "classpath:  C:\\anaconda3\\Lib\\site-packages\\rhinoMorph/lib/rhino.jar\n",
      "RHINO started!\n",
      "sample data: ['디자인', '너무', '별로']\n"
     ]
    }
   ],
   "source": [
    "import rhinoMorph\n",
    "rn = rhinoMorph.startRhino()\n",
    "# 예문 분석\n",
    "text = \"디자인 너무 별로에요\"\n",
    "sample_data = rhinoMorph.onlyMorph_list(rn, text, pos=['NNG', 'NNP', 'VV', \n",
    "                                                           'VA', 'XR', 'IC', 'MM', 'MAG', 'MAJ'], eomi=True)\n",
    "print('sample data:', sample_data)"
   ]
  },
  {
   "cell_type": "code",
   "execution_count": 2,
   "metadata": {},
   "outputs": [],
   "source": [
    "import pandas as pd"
   ]
  },
  {
   "cell_type": "code",
   "execution_count": 4,
   "metadata": {},
   "outputs": [
    {
     "data": {
      "text/html": [
       "<div>\n",
       "<style scoped>\n",
       "    .dataframe tbody tr th:only-of-type {\n",
       "        vertical-align: middle;\n",
       "    }\n",
       "\n",
       "    .dataframe tbody tr th {\n",
       "        vertical-align: top;\n",
       "    }\n",
       "\n",
       "    .dataframe thead th {\n",
       "        text-align: right;\n",
       "    }\n",
       "</style>\n",
       "<table border=\"1\" class=\"dataframe\">\n",
       "  <thead>\n",
       "    <tr style=\"text-align: right;\">\n",
       "      <th></th>\n",
       "      <th>리뷰</th>\n",
       "      <th>긍정/부정</th>\n",
       "    </tr>\n",
       "  </thead>\n",
       "  <tbody>\n",
       "    <tr>\n",
       "      <th>0</th>\n",
       "      <td>가성비 미쳤다잉?! 전에 쓰던거 보다 소음이 작은 것 같아요1단은 힘이 없어서 안쓸...</td>\n",
       "      <td>1</td>\n",
       "    </tr>\n",
       "    <tr>\n",
       "      <th>1</th>\n",
       "      <td>귀엽고 가벼운 청소기 추천 ! Q. 가성비 좋은 청소기 찾으세요?Q. 가볍고 보관이...</td>\n",
       "      <td>1</td>\n",
       "    </tr>\n",
       "    <tr>\n",
       "      <th>2</th>\n",
       "      <td>가성비 좋은 넘 예쁜 핑크색 청소기 +두달 사용후기 추가했어요장점1. 디자인이나 색...</td>\n",
       "      <td>1</td>\n",
       "    </tr>\n",
       "    <tr>\n",
       "      <th>3</th>\n",
       "      <td>청소 귀차니즘을 해결해주는 해결사 간편하게 청소를 원하는데 가성비를 생각하고 계신다...</td>\n",
       "      <td>1</td>\n",
       "    </tr>\n",
       "    <tr>\n",
       "      <th>4</th>\n",
       "      <td>무선에다가 필터 있어서 나쁘지않네요 좋아요 거짓말 안합니다•안녕하세요 원룸살고있는 ...</td>\n",
       "      <td>1</td>\n",
       "    </tr>\n",
       "    <tr>\n",
       "      <th>...</th>\n",
       "      <td>...</td>\n",
       "      <td>...</td>\n",
       "    </tr>\n",
       "    <tr>\n",
       "      <th>74480</th>\n",
       "      <td>배송도 빠르고 좋아요</td>\n",
       "      <td>1</td>\n",
       "    </tr>\n",
       "    <tr>\n",
       "      <th>74481</th>\n",
       "      <td>너무좋아요 로켓배송강추입니다.</td>\n",
       "      <td>1</td>\n",
       "    </tr>\n",
       "    <tr>\n",
       "      <th>74482</th>\n",
       "      <td>너무 좋네요~~~배송도 빠룸빠름~~!!</td>\n",
       "      <td>1</td>\n",
       "    </tr>\n",
       "    <tr>\n",
       "      <th>74483</th>\n",
       "      <td>빨라서 좋고..</td>\n",
       "      <td>1</td>\n",
       "    </tr>\n",
       "    <tr>\n",
       "      <th>74484</th>\n",
       "      <td>배송도 빠르고 아주 만족합니다 ~</td>\n",
       "      <td>1</td>\n",
       "    </tr>\n",
       "  </tbody>\n",
       "</table>\n",
       "<p>74485 rows × 2 columns</p>\n",
       "</div>"
      ],
      "text/plain": [
       "                                                      리뷰  긍정/부정\n",
       "0      가성비 미쳤다잉?! 전에 쓰던거 보다 소음이 작은 것 같아요1단은 힘이 없어서 안쓸...      1\n",
       "1      귀엽고 가벼운 청소기 추천 ! Q. 가성비 좋은 청소기 찾으세요?Q. 가볍고 보관이...      1\n",
       "2      가성비 좋은 넘 예쁜 핑크색 청소기 +두달 사용후기 추가했어요장점1. 디자인이나 색...      1\n",
       "3      청소 귀차니즘을 해결해주는 해결사 간편하게 청소를 원하는데 가성비를 생각하고 계신다...      1\n",
       "4      무선에다가 필터 있어서 나쁘지않네요 좋아요 거짓말 안합니다•안녕하세요 원룸살고있는 ...      1\n",
       "...                                                  ...    ...\n",
       "74480                                        배송도 빠르고 좋아요      1\n",
       "74481                                   너무좋아요 로켓배송강추입니다.      1\n",
       "74482                              너무 좋네요~~~배송도 빠룸빠름~~!!      1\n",
       "74483                                           빨라서 좋고..      1\n",
       "74484                                 배송도 빠르고 아주 만족합니다 ~      1\n",
       "\n",
       "[74485 rows x 2 columns]"
      ]
     },
     "execution_count": 4,
     "metadata": {},
     "output_type": "execute_result"
    }
   ],
   "source": [
    "data = pd.read_csv('C:/Users/slugg/Documents/GitHub/three_idiot/전처리_데이터/긍정_부정(청소기).csv', index_col=0)\n",
    "data"
   ]
  },
  {
   "cell_type": "code",
   "execution_count": 5,
   "metadata": {},
   "outputs": [],
   "source": [
    "all_list = []\n",
    "\n",
    "for index, nae in data.iterrows():\n",
    "    all_list.append([nae[0], nae[1]])"
   ]
  },
  {
   "cell_type": "code",
   "execution_count": 6,
   "metadata": {},
   "outputs": [
    {
     "name": "stderr",
     "output_type": "stream",
     "text": [
      "  0%|          | 0/74485 [00:00<?, ?it/s]"
     ]
    },
    {
     "name": "stderr",
     "output_type": "stream",
     "text": [
      "100%|██████████| 74485/74485 [02:01<00:00, 611.64it/s] \n"
     ]
    }
   ],
   "source": [
    "from tqdm import tqdm\n",
    "rate = []\n",
    "morphed_data = []\n",
    "for data_each in tqdm(all_list):\n",
    "    morphed_data_each = rhinoMorph.onlyMorph_list(rn, data_each[0], pos=['NNG', 'NNP', 'VV', \n",
    "                                                           'VA', 'XR', 'IC', 'MM', 'MAG', 'MAJ'], eomi=True)\n",
    "    joined_data_each = ' '.join(morphed_data_each)\n",
    "    if joined_data_each:\n",
    "        morphed_data.append(joined_data_each)\n",
    "        rate.append(data_each[1])\n",
    "\n",
    "morphed_Series = pd.Series(morphed_data)\n",
    "morphed_Rate = pd.Series(rate)"
   ]
  },
  {
   "cell_type": "code",
   "execution_count": 7,
   "metadata": {},
   "outputs": [
    {
     "data": {
      "text/plain": [
       "0        가성비 미치다 다 잉 전 쓰다 소음 작다 같다 힘 없다 안 쓸다 같다 하다 괜찮다 ...\n",
       "1        귀엽다 가볍다 청소기 추천 가성비 좋다 청소기 찾다 가볍다 보관 용이 청소기 찾다 ...\n",
       "2        가성비 좋다 너무 예쁘다 핑크 색 청소기 두다 사용 후 추가 장점 디자인 색상 예쁘...\n",
       "3        청소 귀차니즘 해결 해결사 간편 청소 원하다 가성비 생각 계시다 추천 좋다 편리 점...\n",
       "4        무선 필터 있다 나쁘다 좋다 거짓말 안 하다 안녕 하다 원룸 살다 남자 ㅎㅎ ㅎ 처...\n",
       "                               ...                        \n",
       "74338                                            배송 빠르다 좋다\n",
       "74339                                         너무 좋다 로켓 배송강\n",
       "74340                                     너무 좋다 배송 빠 룸 빠르다\n",
       "74341                                               빠르다 좋다\n",
       "74342                                         배송 빠르다 아주 만족\n",
       "Length: 74343, dtype: object"
      ]
     },
     "execution_count": 7,
     "metadata": {},
     "output_type": "execute_result"
    }
   ],
   "source": [
    "morphed_Series"
   ]
  },
  {
   "cell_type": "code",
   "execution_count": 8,
   "metadata": {},
   "outputs": [
    {
     "data": {
      "text/html": [
       "<div>\n",
       "<style scoped>\n",
       "    .dataframe tbody tr th:only-of-type {\n",
       "        vertical-align: middle;\n",
       "    }\n",
       "\n",
       "    .dataframe tbody tr th {\n",
       "        vertical-align: top;\n",
       "    }\n",
       "\n",
       "    .dataframe thead th {\n",
       "        text-align: right;\n",
       "    }\n",
       "</style>\n",
       "<table border=\"1\" class=\"dataframe\">\n",
       "  <thead>\n",
       "    <tr style=\"text-align: right;\">\n",
       "      <th></th>\n",
       "      <th>0</th>\n",
       "      <th>1</th>\n",
       "    </tr>\n",
       "  </thead>\n",
       "  <tbody>\n",
       "    <tr>\n",
       "      <th>0</th>\n",
       "      <td>가성비 미치다 다 잉 전 쓰다 소음 작다 같다 힘 없다 안 쓸다 같다 하다 괜찮다 ...</td>\n",
       "      <td>1</td>\n",
       "    </tr>\n",
       "    <tr>\n",
       "      <th>1</th>\n",
       "      <td>귀엽다 가볍다 청소기 추천 가성비 좋다 청소기 찾다 가볍다 보관 용이 청소기 찾다 ...</td>\n",
       "      <td>1</td>\n",
       "    </tr>\n",
       "    <tr>\n",
       "      <th>2</th>\n",
       "      <td>가성비 좋다 너무 예쁘다 핑크 색 청소기 두다 사용 후 추가 장점 디자인 색상 예쁘...</td>\n",
       "      <td>1</td>\n",
       "    </tr>\n",
       "    <tr>\n",
       "      <th>3</th>\n",
       "      <td>청소 귀차니즘 해결 해결사 간편 청소 원하다 가성비 생각 계시다 추천 좋다 편리 점...</td>\n",
       "      <td>1</td>\n",
       "    </tr>\n",
       "    <tr>\n",
       "      <th>4</th>\n",
       "      <td>무선 필터 있다 나쁘다 좋다 거짓말 안 하다 안녕 하다 원룸 살다 남자 ㅎㅎ ㅎ 처...</td>\n",
       "      <td>1</td>\n",
       "    </tr>\n",
       "    <tr>\n",
       "      <th>...</th>\n",
       "      <td>...</td>\n",
       "      <td>...</td>\n",
       "    </tr>\n",
       "    <tr>\n",
       "      <th>74338</th>\n",
       "      <td>배송 빠르다 좋다</td>\n",
       "      <td>1</td>\n",
       "    </tr>\n",
       "    <tr>\n",
       "      <th>74339</th>\n",
       "      <td>너무 좋다 로켓 배송강</td>\n",
       "      <td>1</td>\n",
       "    </tr>\n",
       "    <tr>\n",
       "      <th>74340</th>\n",
       "      <td>너무 좋다 배송 빠 룸 빠르다</td>\n",
       "      <td>1</td>\n",
       "    </tr>\n",
       "    <tr>\n",
       "      <th>74341</th>\n",
       "      <td>빠르다 좋다</td>\n",
       "      <td>1</td>\n",
       "    </tr>\n",
       "    <tr>\n",
       "      <th>74342</th>\n",
       "      <td>배송 빠르다 아주 만족</td>\n",
       "      <td>1</td>\n",
       "    </tr>\n",
       "  </tbody>\n",
       "</table>\n",
       "<p>74343 rows × 2 columns</p>\n",
       "</div>"
      ],
      "text/plain": [
       "                                                       0  1\n",
       "0      가성비 미치다 다 잉 전 쓰다 소음 작다 같다 힘 없다 안 쓸다 같다 하다 괜찮다 ...  1\n",
       "1      귀엽다 가볍다 청소기 추천 가성비 좋다 청소기 찾다 가볍다 보관 용이 청소기 찾다 ...  1\n",
       "2      가성비 좋다 너무 예쁘다 핑크 색 청소기 두다 사용 후 추가 장점 디자인 색상 예쁘...  1\n",
       "3      청소 귀차니즘 해결 해결사 간편 청소 원하다 가성비 생각 계시다 추천 좋다 편리 점...  1\n",
       "4      무선 필터 있다 나쁘다 좋다 거짓말 안 하다 안녕 하다 원룸 살다 남자 ㅎㅎ ㅎ 처...  1\n",
       "...                                                  ... ..\n",
       "74338                                          배송 빠르다 좋다  1\n",
       "74339                                       너무 좋다 로켓 배송강  1\n",
       "74340                                   너무 좋다 배송 빠 룸 빠르다  1\n",
       "74341                                             빠르다 좋다  1\n",
       "74342                                       배송 빠르다 아주 만족  1\n",
       "\n",
       "[74343 rows x 2 columns]"
      ]
     },
     "execution_count": 8,
     "metadata": {},
     "output_type": "execute_result"
    }
   ],
   "source": [
    "morphed_save = pd.concat([morphed_Series, morphed_Rate], axis=1)\n",
    "morphed_save"
   ]
  },
  {
   "cell_type": "code",
   "execution_count": 9,
   "metadata": {},
   "outputs": [
    {
     "data": {
      "text/html": [
       "<div>\n",
       "<style scoped>\n",
       "    .dataframe tbody tr th:only-of-type {\n",
       "        vertical-align: middle;\n",
       "    }\n",
       "\n",
       "    .dataframe tbody tr th {\n",
       "        vertical-align: top;\n",
       "    }\n",
       "\n",
       "    .dataframe thead th {\n",
       "        text-align: right;\n",
       "    }\n",
       "</style>\n",
       "<table border=\"1\" class=\"dataframe\">\n",
       "  <thead>\n",
       "    <tr style=\"text-align: right;\">\n",
       "      <th></th>\n",
       "      <th>0</th>\n",
       "      <th>1</th>\n",
       "    </tr>\n",
       "  </thead>\n",
       "  <tbody>\n",
       "    <tr>\n",
       "      <th>0</th>\n",
       "      <td>가성비 미치다 다 잉 전 쓰다 소음 작다 같다 힘 없다 안 쓸다 같다 하다 괜찮다 ...</td>\n",
       "      <td>1</td>\n",
       "    </tr>\n",
       "    <tr>\n",
       "      <th>1</th>\n",
       "      <td>귀엽다 가볍다 청소기 추천 가성비 좋다 청소기 찾다 가볍다 보관 용이 청소기 찾다 ...</td>\n",
       "      <td>1</td>\n",
       "    </tr>\n",
       "    <tr>\n",
       "      <th>2</th>\n",
       "      <td>가성비 좋다 너무 예쁘다 핑크 색 청소기 두다 사용 후 추가 장점 디자인 색상 예쁘...</td>\n",
       "      <td>1</td>\n",
       "    </tr>\n",
       "    <tr>\n",
       "      <th>3</th>\n",
       "      <td>청소 귀차니즘 해결 해결사 간편 청소 원하다 가성비 생각 계시다 추천 좋다 편리 점...</td>\n",
       "      <td>1</td>\n",
       "    </tr>\n",
       "    <tr>\n",
       "      <th>4</th>\n",
       "      <td>무선 필터 있다 나쁘다 좋다 거짓말 안 하다 안녕 하다 원룸 살다 남자 ㅎㅎ ㅎ 처...</td>\n",
       "      <td>1</td>\n",
       "    </tr>\n",
       "    <tr>\n",
       "      <th>...</th>\n",
       "      <td>...</td>\n",
       "      <td>...</td>\n",
       "    </tr>\n",
       "    <tr>\n",
       "      <th>74338</th>\n",
       "      <td>배송 빠르다 좋다</td>\n",
       "      <td>1</td>\n",
       "    </tr>\n",
       "    <tr>\n",
       "      <th>74339</th>\n",
       "      <td>너무 좋다 로켓 배송강</td>\n",
       "      <td>1</td>\n",
       "    </tr>\n",
       "    <tr>\n",
       "      <th>74340</th>\n",
       "      <td>너무 좋다 배송 빠 룸 빠르다</td>\n",
       "      <td>1</td>\n",
       "    </tr>\n",
       "    <tr>\n",
       "      <th>74341</th>\n",
       "      <td>빠르다 좋다</td>\n",
       "      <td>1</td>\n",
       "    </tr>\n",
       "    <tr>\n",
       "      <th>74342</th>\n",
       "      <td>배송 빠르다 아주 만족</td>\n",
       "      <td>1</td>\n",
       "    </tr>\n",
       "  </tbody>\n",
       "</table>\n",
       "<p>74343 rows × 2 columns</p>\n",
       "</div>"
      ],
      "text/plain": [
       "                                                       0  1\n",
       "0      가성비 미치다 다 잉 전 쓰다 소음 작다 같다 힘 없다 안 쓸다 같다 하다 괜찮다 ...  1\n",
       "1      귀엽다 가볍다 청소기 추천 가성비 좋다 청소기 찾다 가볍다 보관 용이 청소기 찾다 ...  1\n",
       "2      가성비 좋다 너무 예쁘다 핑크 색 청소기 두다 사용 후 추가 장점 디자인 색상 예쁘...  1\n",
       "3      청소 귀차니즘 해결 해결사 간편 청소 원하다 가성비 생각 계시다 추천 좋다 편리 점...  1\n",
       "4      무선 필터 있다 나쁘다 좋다 거짓말 안 하다 안녕 하다 원룸 살다 남자 ㅎㅎ ㅎ 처...  1\n",
       "...                                                  ... ..\n",
       "74338                                          배송 빠르다 좋다  1\n",
       "74339                                       너무 좋다 로켓 배송강  1\n",
       "74340                                   너무 좋다 배송 빠 룸 빠르다  1\n",
       "74341                                             빠르다 좋다  1\n",
       "74342                                       배송 빠르다 아주 만족  1\n",
       "\n",
       "[74343 rows x 2 columns]"
      ]
     },
     "execution_count": 9,
     "metadata": {},
     "output_type": "execute_result"
    }
   ],
   "source": [
    "morphed_save.reset_index(inplace=True, drop=True)\n",
    "morphed_save"
   ]
  },
  {
   "cell_type": "code",
   "execution_count": 10,
   "metadata": {},
   "outputs": [],
   "source": [
    "morphed_save.to_csv('C:/Users/slugg/Documents/GitHub/three_idiot/전처리_데이터/morphed_data(청소기).csv', encoding='cp949')"
   ]
  }
 ],
 "metadata": {
  "kernelspec": {
   "display_name": "base",
   "language": "python",
   "name": "python3"
  },
  "language_info": {
   "codemirror_mode": {
    "name": "ipython",
    "version": 3
   },
   "file_extension": ".py",
   "mimetype": "text/x-python",
   "name": "python",
   "nbconvert_exporter": "python",
   "pygments_lexer": "ipython3",
   "version": "3.10.9"
  }
 },
 "nbformat": 4,
 "nbformat_minor": 2
}
