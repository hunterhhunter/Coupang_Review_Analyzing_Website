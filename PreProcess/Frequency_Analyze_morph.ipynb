{
 "cells": [
  {
   "cell_type": "code",
   "execution_count": 1,
   "metadata": {},
   "outputs": [],
   "source": [
    "import pandas as pd"
   ]
  },
  {
   "cell_type": "code",
   "execution_count": 2,
   "metadata": {},
   "outputs": [],
   "source": [
    "raw_data = pd.read_csv('C:/Users/slugg/Documents/GitHub/three_idiot/data/전처리_데이터/긍정_부정.csv', header=0, index_col=0)"
   ]
  },
  {
   "cell_type": "code",
   "execution_count": 3,
   "metadata": {},
   "outputs": [
    {
     "data": {
      "text/html": [
       "<div>\n",
       "<style scoped>\n",
       "    .dataframe tbody tr th:only-of-type {\n",
       "        vertical-align: middle;\n",
       "    }\n",
       "\n",
       "    .dataframe tbody tr th {\n",
       "        vertical-align: top;\n",
       "    }\n",
       "\n",
       "    .dataframe thead th {\n",
       "        text-align: right;\n",
       "    }\n",
       "</style>\n",
       "<table border=\"1\" class=\"dataframe\">\n",
       "  <thead>\n",
       "    <tr style=\"text-align: right;\">\n",
       "      <th></th>\n",
       "      <th>리뷰</th>\n",
       "      <th>긍정/부정</th>\n",
       "    </tr>\n",
       "  </thead>\n",
       "  <tbody>\n",
       "    <tr>\n",
       "      <th>0</th>\n",
       "      <td>드라이기 사용 후 머리카락에서 윤기가 나요. 그동안 사용하던 드라이기가 갑자기 고장...</td>\n",
       "      <td>1</td>\n",
       "    </tr>\n",
       "    <tr>\n",
       "      <th>1</th>\n",
       "      <td>전 곱슬+숱많은 머리로 어깨를 살짝 가릴정도의 기장임에도 말리는 시간이 25~30분...</td>\n",
       "      <td>1</td>\n",
       "    </tr>\n",
       "    <tr>\n",
       "      <th>2</th>\n",
       "      <td>일단ㅋㅋㅋ정말 바람이 쎄서 좋아요!여름에ㅋㅋㅋ선풍기대신 써도 될만큼...시원해요~~...</td>\n",
       "      <td>1</td>\n",
       "    </tr>\n",
       "    <tr>\n",
       "      <th>3</th>\n",
       "      <td>미용실에서 드라이 해주면 뭔가 머리결도 좋아 보이고, 머리가 차분 하지 않나요?사용...</td>\n",
       "      <td>1</td>\n",
       "    </tr>\n",
       "    <tr>\n",
       "      <th>4</th>\n",
       "      <td>미용실에서 추천한 가성비 드라이기 내돈내산리뷰다들 미용실드라이기는 잘마르고 머리도 ...</td>\n",
       "      <td>1</td>\n",
       "    </tr>\n",
       "    <tr>\n",
       "      <th>...</th>\n",
       "      <td>...</td>\n",
       "      <td>...</td>\n",
       "    </tr>\n",
       "    <tr>\n",
       "      <th>291218</th>\n",
       "      <td>일주일 다 되가도록 온다만다 연락이 없네요...그런대 리뷰쓰라뇨..</td>\n",
       "      <td>0</td>\n",
       "    </tr>\n",
       "    <tr>\n",
       "      <th>291219</th>\n",
       "      <td>굳 감사합니다</td>\n",
       "      <td>1</td>\n",
       "    </tr>\n",
       "    <tr>\n",
       "      <th>291220</th>\n",
       "      <td>기사님께 너무 감사드립니다^^</td>\n",
       "      <td>1</td>\n",
       "    </tr>\n",
       "    <tr>\n",
       "      <th>291221</th>\n",
       "      <td>빠른설치감사합니다</td>\n",
       "      <td>1</td>\n",
       "    </tr>\n",
       "    <tr>\n",
       "      <th>291222</th>\n",
       "      <td>잘 설치해 주셨어요</td>\n",
       "      <td>1</td>\n",
       "    </tr>\n",
       "  </tbody>\n",
       "</table>\n",
       "<p>291223 rows × 2 columns</p>\n",
       "</div>"
      ],
      "text/plain": [
       "                                                       리뷰  긍정/부정\n",
       "0       드라이기 사용 후 머리카락에서 윤기가 나요. 그동안 사용하던 드라이기가 갑자기 고장...      1\n",
       "1       전 곱슬+숱많은 머리로 어깨를 살짝 가릴정도의 기장임에도 말리는 시간이 25~30분...      1\n",
       "2       일단ㅋㅋㅋ정말 바람이 쎄서 좋아요!여름에ㅋㅋㅋ선풍기대신 써도 될만큼...시원해요~~...      1\n",
       "3       미용실에서 드라이 해주면 뭔가 머리결도 좋아 보이고, 머리가 차분 하지 않나요?사용...      1\n",
       "4       미용실에서 추천한 가성비 드라이기 내돈내산리뷰다들 미용실드라이기는 잘마르고 머리도 ...      1\n",
       "...                                                   ...    ...\n",
       "291218              일주일 다 되가도록 온다만다 연락이 없네요...그런대 리뷰쓰라뇨..      0\n",
       "291219                                            굳 감사합니다      1\n",
       "291220                                   기사님께 너무 감사드립니다^^      1\n",
       "291221                                          빠른설치감사합니다      1\n",
       "291222                                         잘 설치해 주셨어요      1\n",
       "\n",
       "[291223 rows x 2 columns]"
      ]
     },
     "execution_count": 3,
     "metadata": {},
     "output_type": "execute_result"
    }
   ],
   "source": [
    "raw_data"
   ]
  },
  {
   "cell_type": "code",
   "execution_count": 5,
   "metadata": {},
   "outputs": [],
   "source": [
    "marks = [\"?\", \"!\", \"。\", \"‘\", \"’\", \"“\", \"”\", \"`\", \"\\'\",\n",
    "        \"\\\"\", \"(\", \")\", \"{\", \"}\", \"[\", \"]\", \"─\", \"『\", \"』\", \n",
    "        \",\", \"ㆍ\", \"·\", \"ᆞ\", \":\", \";\", \"/\", \"…\", \"_\", \"~\", \n",
    "        \"∼\", \"∽\", \"□\", \"■\", \"▶\", \"◀\", \"◆\", \"▲\", \"◇\", \"◈\", \n",
    "        \"☎\", \"【\", \"】\", \"+\", \"-\", \"=\", \"±\", \"÷\", \"×\", \"*\", \n",
    "        \"^\", \">\", \"<\", \"｜\", \"|\", \"％\", \"%\", \"&\", \"￦\", \"₩\", \n",
    "        \"\\\\\", \"\\t\", \"\\r\\n\", \"\\n\", \"＄\", \"$\", \"¥\", \"￥\", \"£\", \n",
    "        \"￡\", \"°\", \"㎞\", \"㎏\", \"@\", \"©\", \"ⓒ\", \"↑\", \"|\", \"#\", \n",
    "        \"♥\", \"♡\", \"★\", \"☆\", \"♪\", \"♬\", 'ㅋ', 'ㅠ', 'ㅜ']"
   ]
  },
  {
   "cell_type": "code",
   "execution_count": 6,
   "metadata": {},
   "outputs": [],
   "source": [
    "def remove_mark(sentence):\n",
    "    sentence_no_mark = sentence\n",
    "    for mark in marks:\n",
    "        sentence_no_mark = sentence_no_mark.replace(mark, '')\n",
    "    return sentence_no_mark"
   ]
  },
  {
   "cell_type": "code",
   "execution_count": 7,
   "metadata": {},
   "outputs": [],
   "source": [
    "raw_data['리뷰'] = raw_data['리뷰'].apply(remove_mark)"
   ]
  },
  {
   "cell_type": "code",
   "execution_count": 8,
   "metadata": {},
   "outputs": [
    {
     "data": {
      "text/html": [
       "<div>\n",
       "<style scoped>\n",
       "    .dataframe tbody tr th:only-of-type {\n",
       "        vertical-align: middle;\n",
       "    }\n",
       "\n",
       "    .dataframe tbody tr th {\n",
       "        vertical-align: top;\n",
       "    }\n",
       "\n",
       "    .dataframe thead th {\n",
       "        text-align: right;\n",
       "    }\n",
       "</style>\n",
       "<table border=\"1\" class=\"dataframe\">\n",
       "  <thead>\n",
       "    <tr style=\"text-align: right;\">\n",
       "      <th></th>\n",
       "      <th>리뷰</th>\n",
       "      <th>긍정/부정</th>\n",
       "    </tr>\n",
       "  </thead>\n",
       "  <tbody>\n",
       "    <tr>\n",
       "      <th>0</th>\n",
       "      <td>드라이기 사용 후 머리카락에서 윤기가 나요. 그동안 사용하던 드라이기가 갑자기 고장...</td>\n",
       "      <td>1</td>\n",
       "    </tr>\n",
       "    <tr>\n",
       "      <th>1</th>\n",
       "      <td>전 곱슬숱많은 머리로 어깨를 살짝 가릴정도의 기장임에도 말리는 시간이 2530분 정...</td>\n",
       "      <td>1</td>\n",
       "    </tr>\n",
       "    <tr>\n",
       "      <th>2</th>\n",
       "      <td>일단정말 바람이 쎄서 좋아요여름에선풍기대신 써도 될만큼...시원해요장점은 머리카락이...</td>\n",
       "      <td>1</td>\n",
       "    </tr>\n",
       "    <tr>\n",
       "      <th>3</th>\n",
       "      <td>미용실에서 드라이 해주면 뭔가 머리결도 좋아 보이고 머리가 차분 하지 않나요사용하는...</td>\n",
       "      <td>1</td>\n",
       "    </tr>\n",
       "    <tr>\n",
       "      <th>4</th>\n",
       "      <td>미용실에서 추천한 가성비 드라이기 내돈내산리뷰다들 미용실드라이기는 잘마르고 머리도 ...</td>\n",
       "      <td>1</td>\n",
       "    </tr>\n",
       "    <tr>\n",
       "      <th>...</th>\n",
       "      <td>...</td>\n",
       "      <td>...</td>\n",
       "    </tr>\n",
       "    <tr>\n",
       "      <th>291218</th>\n",
       "      <td>일주일 다 되가도록 온다만다 연락이 없네요...그런대 리뷰쓰라뇨..</td>\n",
       "      <td>0</td>\n",
       "    </tr>\n",
       "    <tr>\n",
       "      <th>291219</th>\n",
       "      <td>굳 감사합니다</td>\n",
       "      <td>1</td>\n",
       "    </tr>\n",
       "    <tr>\n",
       "      <th>291220</th>\n",
       "      <td>기사님께 너무 감사드립니다</td>\n",
       "      <td>1</td>\n",
       "    </tr>\n",
       "    <tr>\n",
       "      <th>291221</th>\n",
       "      <td>빠른설치감사합니다</td>\n",
       "      <td>1</td>\n",
       "    </tr>\n",
       "    <tr>\n",
       "      <th>291222</th>\n",
       "      <td>잘 설치해 주셨어요</td>\n",
       "      <td>1</td>\n",
       "    </tr>\n",
       "  </tbody>\n",
       "</table>\n",
       "<p>291223 rows × 2 columns</p>\n",
       "</div>"
      ],
      "text/plain": [
       "                                                       리뷰  긍정/부정\n",
       "0       드라이기 사용 후 머리카락에서 윤기가 나요. 그동안 사용하던 드라이기가 갑자기 고장...      1\n",
       "1       전 곱슬숱많은 머리로 어깨를 살짝 가릴정도의 기장임에도 말리는 시간이 2530분 정...      1\n",
       "2       일단정말 바람이 쎄서 좋아요여름에선풍기대신 써도 될만큼...시원해요장점은 머리카락이...      1\n",
       "3       미용실에서 드라이 해주면 뭔가 머리결도 좋아 보이고 머리가 차분 하지 않나요사용하는...      1\n",
       "4       미용실에서 추천한 가성비 드라이기 내돈내산리뷰다들 미용실드라이기는 잘마르고 머리도 ...      1\n",
       "...                                                   ...    ...\n",
       "291218              일주일 다 되가도록 온다만다 연락이 없네요...그런대 리뷰쓰라뇨..      0\n",
       "291219                                            굳 감사합니다      1\n",
       "291220                                     기사님께 너무 감사드립니다      1\n",
       "291221                                          빠른설치감사합니다      1\n",
       "291222                                         잘 설치해 주셨어요      1\n",
       "\n",
       "[291223 rows x 2 columns]"
      ]
     },
     "execution_count": 8,
     "metadata": {},
     "output_type": "execute_result"
    }
   ],
   "source": [
    "raw_data"
   ]
  },
  {
   "cell_type": "code",
   "execution_count": 9,
   "metadata": {},
   "outputs": [],
   "source": [
    "import rhinoMorph"
   ]
  },
  {
   "cell_type": "code",
   "execution_count": 10,
   "metadata": {},
   "outputs": [
    {
     "name": "stdout",
     "output_type": "stream",
     "text": [
      "filepath:  C:\\anaconda3\\Lib\\site-packages\n",
      "classpath:  C:\\anaconda3\\Lib\\site-packages\\rhinoMorph/lib/rhino.jar\n",
      "RHINO started!\n",
      "sample data: ['드라이기', '사용', '후', '머리카락', '윤기', '그동안', '사용', '드라이기', '고장', '나다', '드라이기', '쿠팡', '주문', '되다', '드라이기', '구입', '후', '사용', '수명', '길다', '같다', '이번', '지금', '사용', '드라이기', '가격', '비싸다', '두피', '보호', '아이', '약하다', '머릿결', '신경', '쓰다', '주문', '드라이기', '머릿결', '상하다', '같다', '휴대', '드라이기', '성능', '나쁘다', '드라이기', '머리카락', '타다', '냄새', '나다', '머릿결', '손상', '되다', '있다', '생각하다', '성능', '좋다', '드라이기', '두피', '머리카락', '말리다', '두피', '건강', '크다', '도움', '주다', '생각하다', '젖다', '머리', '잠들다', '되다', '겨울철', '머리', '말리다', '자다', '두피', '상하다', '경험', '있다', '드라이기', '머리', '말리다', '아기', '두보', '사용', '만족', '점', '드라이기', '사용', '후', '머릿결', '좋다', '보이다', '점', '거울', '비추다', '머리', '결', '반짝반짝', '아이', '드라이기', '사용', '후', '머릿결', '예쁘다', '고요', '가족', '두피', '건강', '지키다', '사용', '있다', '드라이기', '바람', '강하다', '편', '두피', '상하다', '아이', '사용', '좋다', '무게감', '무겁다', '보통', '그렇다', '가볍다', '성능', '생각', '보통', '무게', '감안', '좋다', '같다', '사진', '꼼꼼', '드라이기', '구입', '때', '참고', '하다', '바라다', '만족', '사용', '있다', '지인', '추천']\n"
     ]
    }
   ],
   "source": [
    "rn = rhinoMorph.startRhino()\n",
    "# 예문 분석\n",
    "text = raw_data.iloc[0, 0]\n",
    "sample_data = rhinoMorph.onlyMorph_list(rn, text, pos=['NNG', 'NNP', 'VV', \n",
    "                                                           'VA', 'XR'], eomi=True)\n",
    "print('sample data:', sample_data)"
   ]
  },
  {
   "cell_type": "code",
   "execution_count": 11,
   "metadata": {},
   "outputs": [
    {
     "name": "stdout",
     "output_type": "stream",
     "text": [
      "드라이기 소리 크다 뜨겁다 좋다\n"
     ]
    }
   ],
   "source": [
    "def morph(sentence):\n",
    "    morphed_sentence = rhinoMorph.onlyMorph_list(rn, sentence, \n",
    "                                                 pos=['NNG', 'NNP', 'VV', 'VA', 'XR'], eomi=True)\n",
    "    joined_sentence = ' '.join(morphed_sentence)\n",
    "    return joined_sentence\n",
    "\n",
    "print(morph('이 드라이기 소리도 별로 안 크고 뜨거워서 정말 좋아요'))"
   ]
  },
  {
   "cell_type": "code",
   "execution_count": 12,
   "metadata": {},
   "outputs": [
    {
     "data": {
      "text/plain": [
       "0         드라이기 사용 후 머리카락 윤기 그동안 사용 드라이기 고장 나다 드라이기 쿠팡 주문...\n",
       "1         곱슬 숱 많다 머리 어깨 가다 릴 정도 기장 말리다 시간 정도 걸리다 뜨겁다 바람 ...\n",
       "2         일단 바람 쎄다 좋다 여름 선풍 대신 쓰다 되다 시원 장점 머리카락 빨리다 없다 구...\n",
       "3         미용실 드라이 하다 머리 좋다 보이다 머리 차분 하다 사용 하다 샴푸 트리트먼트 차...\n",
       "4         미용실 추천 하다 가성비 드라이기 나다 돈 내산리 뷰 미용실 드라이기 마르다 머리 ...\n",
       "                                ...                        \n",
       "291218                         일주일 되다 오다 말다 연락 없다 그렇다 리뷰 쓰다\n",
       "291219                                                 굳 감사\n",
       "291220                                            기사 감사 드리다\n",
       "291221                                        빠르다 설치다 감사 하다\n",
       "291222                                               설치다 하다\n",
       "Name: 리뷰, Length: 291223, dtype: object"
      ]
     },
     "execution_count": 12,
     "metadata": {},
     "output_type": "execute_result"
    }
   ],
   "source": [
    "morphed_Series = raw_data.iloc[:, 0].apply(morph)\n",
    "morphed_Series"
   ]
  },
  {
   "cell_type": "code",
   "execution_count": 13,
   "metadata": {},
   "outputs": [
    {
     "name": "stdout",
     "output_type": "stream",
     "text": [
      "믿다 살다 쿠팡 다음 구매\n"
     ]
    }
   ],
   "source": [
    "print(morph('역시 믿고 사는 쿠팡! 다음에 또 구매할게요'))"
   ]
  },
  {
   "cell_type": "code",
   "execution_count": 14,
   "metadata": {},
   "outputs": [
    {
     "data": {
      "text/html": [
       "<div>\n",
       "<style scoped>\n",
       "    .dataframe tbody tr th:only-of-type {\n",
       "        vertical-align: middle;\n",
       "    }\n",
       "\n",
       "    .dataframe tbody tr th {\n",
       "        vertical-align: top;\n",
       "    }\n",
       "\n",
       "    .dataframe thead th {\n",
       "        text-align: right;\n",
       "    }\n",
       "</style>\n",
       "<table border=\"1\" class=\"dataframe\">\n",
       "  <thead>\n",
       "    <tr style=\"text-align: right;\">\n",
       "      <th></th>\n",
       "      <th>리뷰</th>\n",
       "      <th>긍정/부정</th>\n",
       "    </tr>\n",
       "  </thead>\n",
       "  <tbody>\n",
       "    <tr>\n",
       "      <th>0</th>\n",
       "      <td>드라이기 사용 후 머리카락 윤기 그동안 사용 드라이기 고장 나다 드라이기 쿠팡 주문...</td>\n",
       "      <td>1</td>\n",
       "    </tr>\n",
       "    <tr>\n",
       "      <th>1</th>\n",
       "      <td>곱슬 숱 많다 머리 어깨 가다 릴 정도 기장 말리다 시간 정도 걸리다 뜨겁다 바람 ...</td>\n",
       "      <td>1</td>\n",
       "    </tr>\n",
       "    <tr>\n",
       "      <th>2</th>\n",
       "      <td>일단 바람 쎄다 좋다 여름 선풍 대신 쓰다 되다 시원 장점 머리카락 빨리다 없다 구...</td>\n",
       "      <td>1</td>\n",
       "    </tr>\n",
       "    <tr>\n",
       "      <th>3</th>\n",
       "      <td>미용실 드라이 하다 머리 좋다 보이다 머리 차분 하다 사용 하다 샴푸 트리트먼트 차...</td>\n",
       "      <td>1</td>\n",
       "    </tr>\n",
       "    <tr>\n",
       "      <th>4</th>\n",
       "      <td>미용실 추천 하다 가성비 드라이기 나다 돈 내산리 뷰 미용실 드라이기 마르다 머리 ...</td>\n",
       "      <td>1</td>\n",
       "    </tr>\n",
       "    <tr>\n",
       "      <th>...</th>\n",
       "      <td>...</td>\n",
       "      <td>...</td>\n",
       "    </tr>\n",
       "    <tr>\n",
       "      <th>291218</th>\n",
       "      <td>일주일 되다 오다 말다 연락 없다 그렇다 리뷰 쓰다</td>\n",
       "      <td>0</td>\n",
       "    </tr>\n",
       "    <tr>\n",
       "      <th>291219</th>\n",
       "      <td>굳 감사</td>\n",
       "      <td>1</td>\n",
       "    </tr>\n",
       "    <tr>\n",
       "      <th>291220</th>\n",
       "      <td>기사 감사 드리다</td>\n",
       "      <td>1</td>\n",
       "    </tr>\n",
       "    <tr>\n",
       "      <th>291221</th>\n",
       "      <td>빠르다 설치다 감사 하다</td>\n",
       "      <td>1</td>\n",
       "    </tr>\n",
       "    <tr>\n",
       "      <th>291222</th>\n",
       "      <td>설치다 하다</td>\n",
       "      <td>1</td>\n",
       "    </tr>\n",
       "  </tbody>\n",
       "</table>\n",
       "<p>291223 rows × 2 columns</p>\n",
       "</div>"
      ],
      "text/plain": [
       "                                                       리뷰  긍정/부정\n",
       "0       드라이기 사용 후 머리카락 윤기 그동안 사용 드라이기 고장 나다 드라이기 쿠팡 주문...      1\n",
       "1       곱슬 숱 많다 머리 어깨 가다 릴 정도 기장 말리다 시간 정도 걸리다 뜨겁다 바람 ...      1\n",
       "2       일단 바람 쎄다 좋다 여름 선풍 대신 쓰다 되다 시원 장점 머리카락 빨리다 없다 구...      1\n",
       "3       미용실 드라이 하다 머리 좋다 보이다 머리 차분 하다 사용 하다 샴푸 트리트먼트 차...      1\n",
       "4       미용실 추천 하다 가성비 드라이기 나다 돈 내산리 뷰 미용실 드라이기 마르다 머리 ...      1\n",
       "...                                                   ...    ...\n",
       "291218                       일주일 되다 오다 말다 연락 없다 그렇다 리뷰 쓰다      0\n",
       "291219                                               굳 감사      1\n",
       "291220                                          기사 감사 드리다      1\n",
       "291221                                      빠르다 설치다 감사 하다      1\n",
       "291222                                             설치다 하다      1\n",
       "\n",
       "[291223 rows x 2 columns]"
      ]
     },
     "execution_count": 14,
     "metadata": {},
     "output_type": "execute_result"
    }
   ],
   "source": [
    "morphed_data = pd.concat([morphed_Series, raw_data.iloc[:, 1]], axis=1)\n",
    "morphed_data"
   ]
  },
  {
   "cell_type": "code",
   "execution_count": 15,
   "metadata": {},
   "outputs": [],
   "source": [
    "morphed_data.to_csv('C:/Users/slugg/Documents/GitHub/three_idiot/data/전처리_데이터/Analyze_morphed_no_mark.csv', encoding='cp949')"
   ]
  }
 ],
 "metadata": {
  "kernelspec": {
   "display_name": "base",
   "language": "python",
   "name": "python3"
  },
  "language_info": {
   "codemirror_mode": {
    "name": "ipython",
    "version": 3
   },
   "file_extension": ".py",
   "mimetype": "text/x-python",
   "name": "python",
   "nbconvert_exporter": "python",
   "pygments_lexer": "ipython3",
   "version": "3.10.9"
  }
 },
 "nbformat": 4,
 "nbformat_minor": 2
}
